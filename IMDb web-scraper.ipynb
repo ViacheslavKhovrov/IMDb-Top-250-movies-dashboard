{
 "cells": [
  {
   "cell_type": "code",
   "execution_count": 2,
   "metadata": {},
   "outputs": [],
   "source": [
    "import requests\n",
    "from bs4 import BeautifulSoup"
   ]
  },
  {
   "cell_type": "code",
   "execution_count": 44,
   "metadata": {},
   "outputs": [],
   "source": [
    "# Retrieve content from the website\n",
    "imdb_url = \"https://www.imdb.com\"\n",
    "search_urls = [\"https://www.imdb.com/search/title/?groups=top_250&sort=user_rating,desc&ref_=adv_prv\",\n",
    "               \"https://www.imdb.com/search/title/?groups=top_250&sort=user_rating,desc&start=51&ref_=adv_nxt\", \n",
    "               \"https://www.imdb.com/search/title/?groups=top_250&sort=user_rating,desc&start=101&ref_=adv_nxt\", \n",
    "               \"https://www.imdb.com/search/title/?groups=top_250&sort=user_rating,desc&start=151&ref_=adv_nxt\", \n",
    "               \"https://www.imdb.com/search/title/?groups=top_250&sort=user_rating,desc&start=201&ref_=adv_nxt\"]\n",
    "headers = {\"Accept-Language\": \"en-US,en;q=0.5\"}\n",
    "\n",
    "movies = []\n",
    "for url in search_urls:\n",
    "    response = requests.get(url, headers=headers)\n",
    "    content = response.content\n",
    "    soup = BeautifulSoup(content,\"html.parser\")\n",
    "\n",
    "    # Scrape the data using HTML tags\n",
    "    movies_list = soup.find_all(\"div\", attrs={\"class\": \"lister-item-content\"})\n",
    "    for movie in movies_list:\n",
    "        df = {}\n",
    "        df[\"Movie Title\"] = movie.find(\"a\").text\n",
    "        df[\"Movie URL\"] = imdb_url + movie.find(\"a\")['href']\n",
    "        df[\"Release Year\"] = movie.find(\"span\", attrs={\"class\": \"lister-item-year\"}).text[-5:-1]\n",
    "        df[\"Rank\"] = movie.find_all(\"span\", attrs={\"name\": \"nv\"})[-1].text[1:]\n",
    "        df[\"Ratings\"] = movie.find(\"strong\").text\n",
    "        df[\"Votes\"] = movie.find_all(\"span\", attrs={\"name\": \"nv\"})[0].text\n",
    "        movies.append(df)"
   ]
  },
  {
   "cell_type": "code",
   "execution_count": 60,
   "metadata": {},
   "outputs": [
    {
     "name": "stdout",
     "output_type": "stream",
     "text": [
      "<class 'pandas.core.frame.DataFrame'>\n",
      "RangeIndex: 250 entries, 0 to 249\n",
      "Data columns (total 6 columns):\n",
      " #   Column        Non-Null Count  Dtype         \n",
      "---  ------        --------------  -----         \n",
      " 0   Movie Title   250 non-null    object        \n",
      " 1   Movie URL     250 non-null    object        \n",
      " 2   Release Year  250 non-null    datetime64[ns]\n",
      " 3   Rank          250 non-null    int32         \n",
      " 4   Ratings       250 non-null    float64       \n",
      " 5   Votes         250 non-null    int32         \n",
      "dtypes: datetime64[ns](1), float64(1), int32(2), object(2)\n",
      "memory usage: 9.9+ KB\n"
     ]
    }
   ],
   "source": [
    "import pandas as pd\n",
    "dataframe = pd.DataFrame(movies)\n",
    "dataframe[\"Release Year\"] = pd.to_datetime(dataframe[\"Release Year\"])\n",
    "dataframe['Rank'] = dataframe['Rank'].astype('int')\n",
    "dataframe['Ratings'] = dataframe['Ratings'].astype('float')\n",
    "dataframe['Votes'] = dataframe['Votes'].str.replace(',', '').astype('int')\n",
    "dataframe.sort_values(by='Rank', inplace=True)\n",
    "dataframe.reset_index(drop=True, inplace=True)\n",
    "dataframe.info()"
   ]
  },
  {
   "cell_type": "code",
   "execution_count": 59,
   "metadata": {},
   "outputs": [
    {
     "name": "stdout",
     "output_type": "stream",
     "text": [
      "                                        Movie Title  \\\n",
      "0                          The Shawshank Redemption   \n",
      "1                                     The Godfather   \n",
      "2                            The Godfather: Part II   \n",
      "3                                   The Dark Knight   \n",
      "4                                      12 Angry Men   \n",
      "..                                              ...   \n",
      "245  Neon Genesis Evangelion: The End of Evangelion   \n",
      "246                                   Andrei Rublev   \n",
      "247                               Nights of Cabiria   \n",
      "248                                 Soorarai Pottru   \n",
      "249                           The Battle of Algiers   \n",
      "\n",
      "                                  Movie URL Release Year  Rank  Ratings  \\\n",
      "0     https://www.imdb.com/title/tt0111161/   1994-01-01     1      9.3   \n",
      "1     https://www.imdb.com/title/tt0068646/   1972-01-01     2      9.2   \n",
      "2     https://www.imdb.com/title/tt0071562/   1974-01-01     3      9.0   \n",
      "3     https://www.imdb.com/title/tt0468569/   2008-01-01     4      9.0   \n",
      "4     https://www.imdb.com/title/tt0050083/   1957-01-01     5      9.0   \n",
      "..                                      ...          ...   ...      ...   \n",
      "245   https://www.imdb.com/title/tt0169858/   1997-01-01   246      8.1   \n",
      "246   https://www.imdb.com/title/tt0060107/   1966-01-01   247      8.1   \n",
      "247   https://www.imdb.com/title/tt0050783/   1957-01-01   248      8.1   \n",
      "248  https://www.imdb.com/title/tt10189514/   2020-01-01   249      9.1   \n",
      "249   https://www.imdb.com/title/tt0058946/   1966-01-01   250      8.1   \n",
      "\n",
      "       Votes  \n",
      "0    2547869  \n",
      "1    1752551  \n",
      "2    1215356  \n",
      "3    2498220  \n",
      "4     752874  \n",
      "..       ...  \n",
      "245    50740  \n",
      "246    52369  \n",
      "247    47686  \n",
      "248   107541  \n",
      "249    58365  \n",
      "\n",
      "[250 rows x 6 columns]\n"
     ]
    }
   ],
   "source": [
    "# print the dataframes\n",
    "print(dataframe)\n",
    "\n",
    "# save the result in CSV format\n",
    "dataframe.to_csv('imdb_top_250_movies.csv')"
   ]
  }
 ],
 "metadata": {
  "kernelspec": {
   "display_name": "Python 3",
   "language": "python",
   "name": "python3"
  },
  "language_info": {
   "codemirror_mode": {
    "name": "ipython",
    "version": 3
   },
   "file_extension": ".py",
   "mimetype": "text/x-python",
   "name": "python",
   "nbconvert_exporter": "python",
   "pygments_lexer": "ipython3",
   "version": "3.7.0"
  }
 },
 "nbformat": 4,
 "nbformat_minor": 4
}
